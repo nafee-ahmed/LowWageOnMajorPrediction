{
 "cells": [
  {
   "cell_type": "markdown",
   "id": "fe0239b3",
   "metadata": {},
   "source": [
    "Steps for data mining workflow:\n",
    "\n",
    "1. Getting the data ready\n",
    "2. Choose the right estimator/algorithm for our problems.\n",
    "3. Fit the model/algorithm and use it to make predictions on our data.\n",
    "4. Evaluating a model\n",
    "5. Improve a model\n",
    "6. Save and load a trained model"
   ]
  },
  {
   "cell_type": "code",
   "execution_count": 1,
   "id": "f72bb243",
   "metadata": {},
   "outputs": [],
   "source": [
    "import pandas as pd\n",
    "import numpy as np\n",
    "import matplotlib.pyplot as plt\n",
    "from sklearn.ensemble import RandomForestRegressor\n",
    "from sklearn.model_selection import train_test_split\n",
    "from sklearn.metrics import accuracy_score, precision_score, recall_score\n",
    "from sklearn.preprocessing import OneHotEncoder # turns into numbers\n",
    "from sklearn.compose import ColumnTransformer\n",
    "from sklearn.neighbors import KNeighborsClassifier\n",
    "from sklearn.tree import DecisionTreeClassifier\n",
    "from sklearn.metrics import mean_absolute_error, mean_squared_error\n",
    "from sklearn.metrics import r2_score\n",
    "from sklearn.linear_model import Ridge\n",
    "from sklearn.svm import SVR\n",
    "np.random.seed(333)"
   ]
  },
  {
   "cell_type": "markdown",
   "id": "2adde3c9",
   "metadata": {},
   "source": [
    "# Reading the data by pandas"
   ]
  },
  {
   "cell_type": "code",
   "execution_count": 2,
   "id": "1b6a9278",
   "metadata": {},
   "outputs": [
    {
     "data": {
      "text/html": [
       "<div>\n",
       "<style scoped>\n",
       "    .dataframe tbody tr th:only-of-type {\n",
       "        vertical-align: middle;\n",
       "    }\n",
       "\n",
       "    .dataframe tbody tr th {\n",
       "        vertical-align: top;\n",
       "    }\n",
       "\n",
       "    .dataframe thead th {\n",
       "        text-align: right;\n",
       "    }\n",
       "</style>\n",
       "<table border=\"1\" class=\"dataframe\">\n",
       "  <thead>\n",
       "    <tr style=\"text-align: right;\">\n",
       "      <th></th>\n",
       "      <th>index</th>\n",
       "      <th>Rank</th>\n",
       "      <th>Major_code</th>\n",
       "      <th>Major</th>\n",
       "      <th>Major_category</th>\n",
       "      <th>Total</th>\n",
       "      <th>Sample_size</th>\n",
       "      <th>Men</th>\n",
       "      <th>Women</th>\n",
       "      <th>ShareWomen</th>\n",
       "      <th>...</th>\n",
       "      <th>Part_time</th>\n",
       "      <th>Full_time_year_round</th>\n",
       "      <th>Unemployed</th>\n",
       "      <th>Unemployment_rate</th>\n",
       "      <th>Median</th>\n",
       "      <th>P25th</th>\n",
       "      <th>P75th</th>\n",
       "      <th>College_jobs</th>\n",
       "      <th>Non_college_jobs</th>\n",
       "      <th>Low_wage_jobs</th>\n",
       "    </tr>\n",
       "  </thead>\n",
       "  <tbody>\n",
       "    <tr>\n",
       "      <th>0</th>\n",
       "      <td>0</td>\n",
       "      <td>1</td>\n",
       "      <td>2419</td>\n",
       "      <td>PETROLEUM ENGINEERING</td>\n",
       "      <td>Engineering</td>\n",
       "      <td>2339</td>\n",
       "      <td>36</td>\n",
       "      <td>2057</td>\n",
       "      <td>282</td>\n",
       "      <td>0.120564</td>\n",
       "      <td>...</td>\n",
       "      <td>270</td>\n",
       "      <td>1207</td>\n",
       "      <td>37</td>\n",
       "      <td>0.018381</td>\n",
       "      <td>110000</td>\n",
       "      <td>95000</td>\n",
       "      <td>125000</td>\n",
       "      <td>1534</td>\n",
       "      <td>364</td>\n",
       "      <td>193</td>\n",
       "    </tr>\n",
       "    <tr>\n",
       "      <th>1</th>\n",
       "      <td>1</td>\n",
       "      <td>2</td>\n",
       "      <td>2416</td>\n",
       "      <td>MINING AND MINERAL ENGINEERING</td>\n",
       "      <td>Engineering</td>\n",
       "      <td>756</td>\n",
       "      <td>7</td>\n",
       "      <td>679</td>\n",
       "      <td>77</td>\n",
       "      <td>0.101852</td>\n",
       "      <td>...</td>\n",
       "      <td>170</td>\n",
       "      <td>388</td>\n",
       "      <td>85</td>\n",
       "      <td>0.117241</td>\n",
       "      <td>75000</td>\n",
       "      <td>55000</td>\n",
       "      <td>90000</td>\n",
       "      <td>350</td>\n",
       "      <td>257</td>\n",
       "      <td>50</td>\n",
       "    </tr>\n",
       "    <tr>\n",
       "      <th>2</th>\n",
       "      <td>2</td>\n",
       "      <td>3</td>\n",
       "      <td>2415</td>\n",
       "      <td>METALLURGICAL ENGINEERING</td>\n",
       "      <td>Engineering</td>\n",
       "      <td>856</td>\n",
       "      <td>3</td>\n",
       "      <td>725</td>\n",
       "      <td>131</td>\n",
       "      <td>0.153037</td>\n",
       "      <td>...</td>\n",
       "      <td>133</td>\n",
       "      <td>340</td>\n",
       "      <td>16</td>\n",
       "      <td>0.024096</td>\n",
       "      <td>73000</td>\n",
       "      <td>50000</td>\n",
       "      <td>105000</td>\n",
       "      <td>456</td>\n",
       "      <td>176</td>\n",
       "      <td>0</td>\n",
       "    </tr>\n",
       "    <tr>\n",
       "      <th>3</th>\n",
       "      <td>3</td>\n",
       "      <td>4</td>\n",
       "      <td>2417</td>\n",
       "      <td>NAVAL ARCHITECTURE AND MARINE ENGINEERING</td>\n",
       "      <td>Engineering</td>\n",
       "      <td>1258</td>\n",
       "      <td>16</td>\n",
       "      <td>1123</td>\n",
       "      <td>135</td>\n",
       "      <td>0.107313</td>\n",
       "      <td>...</td>\n",
       "      <td>150</td>\n",
       "      <td>692</td>\n",
       "      <td>40</td>\n",
       "      <td>0.050125</td>\n",
       "      <td>70000</td>\n",
       "      <td>43000</td>\n",
       "      <td>80000</td>\n",
       "      <td>529</td>\n",
       "      <td>102</td>\n",
       "      <td>0</td>\n",
       "    </tr>\n",
       "    <tr>\n",
       "      <th>4</th>\n",
       "      <td>4</td>\n",
       "      <td>5</td>\n",
       "      <td>2405</td>\n",
       "      <td>CHEMICAL ENGINEERING</td>\n",
       "      <td>Engineering</td>\n",
       "      <td>32260</td>\n",
       "      <td>289</td>\n",
       "      <td>21239</td>\n",
       "      <td>11021</td>\n",
       "      <td>0.341631</td>\n",
       "      <td>...</td>\n",
       "      <td>5180</td>\n",
       "      <td>16697</td>\n",
       "      <td>1672</td>\n",
       "      <td>0.061098</td>\n",
       "      <td>65000</td>\n",
       "      <td>50000</td>\n",
       "      <td>75000</td>\n",
       "      <td>18314</td>\n",
       "      <td>4440</td>\n",
       "      <td>972</td>\n",
       "    </tr>\n",
       "    <tr>\n",
       "      <th>...</th>\n",
       "      <td>...</td>\n",
       "      <td>...</td>\n",
       "      <td>...</td>\n",
       "      <td>...</td>\n",
       "      <td>...</td>\n",
       "      <td>...</td>\n",
       "      <td>...</td>\n",
       "      <td>...</td>\n",
       "      <td>...</td>\n",
       "      <td>...</td>\n",
       "      <td>...</td>\n",
       "      <td>...</td>\n",
       "      <td>...</td>\n",
       "      <td>...</td>\n",
       "      <td>...</td>\n",
       "      <td>...</td>\n",
       "      <td>...</td>\n",
       "      <td>...</td>\n",
       "      <td>...</td>\n",
       "      <td>...</td>\n",
       "      <td>...</td>\n",
       "    </tr>\n",
       "    <tr>\n",
       "      <th>168</th>\n",
       "      <td>168</td>\n",
       "      <td>169</td>\n",
       "      <td>3609</td>\n",
       "      <td>ZOOLOGY</td>\n",
       "      <td>Biology &amp; Life Science</td>\n",
       "      <td>8409</td>\n",
       "      <td>47</td>\n",
       "      <td>3050</td>\n",
       "      <td>5359</td>\n",
       "      <td>0.637293</td>\n",
       "      <td>...</td>\n",
       "      <td>2190</td>\n",
       "      <td>3602</td>\n",
       "      <td>304</td>\n",
       "      <td>0.046320</td>\n",
       "      <td>26000</td>\n",
       "      <td>20000</td>\n",
       "      <td>39000</td>\n",
       "      <td>2771</td>\n",
       "      <td>2947</td>\n",
       "      <td>743</td>\n",
       "    </tr>\n",
       "    <tr>\n",
       "      <th>169</th>\n",
       "      <td>169</td>\n",
       "      <td>170</td>\n",
       "      <td>5201</td>\n",
       "      <td>EDUCATIONAL PSYCHOLOGY</td>\n",
       "      <td>Psychology &amp; Social Work</td>\n",
       "      <td>2854</td>\n",
       "      <td>7</td>\n",
       "      <td>522</td>\n",
       "      <td>2332</td>\n",
       "      <td>0.817099</td>\n",
       "      <td>...</td>\n",
       "      <td>572</td>\n",
       "      <td>1211</td>\n",
       "      <td>148</td>\n",
       "      <td>0.065112</td>\n",
       "      <td>25000</td>\n",
       "      <td>24000</td>\n",
       "      <td>34000</td>\n",
       "      <td>1488</td>\n",
       "      <td>615</td>\n",
       "      <td>82</td>\n",
       "    </tr>\n",
       "    <tr>\n",
       "      <th>170</th>\n",
       "      <td>170</td>\n",
       "      <td>171</td>\n",
       "      <td>5202</td>\n",
       "      <td>CLINICAL PSYCHOLOGY</td>\n",
       "      <td>Psychology &amp; Social Work</td>\n",
       "      <td>2838</td>\n",
       "      <td>13</td>\n",
       "      <td>568</td>\n",
       "      <td>2270</td>\n",
       "      <td>0.799859</td>\n",
       "      <td>...</td>\n",
       "      <td>648</td>\n",
       "      <td>1293</td>\n",
       "      <td>368</td>\n",
       "      <td>0.149048</td>\n",
       "      <td>25000</td>\n",
       "      <td>25000</td>\n",
       "      <td>40000</td>\n",
       "      <td>986</td>\n",
       "      <td>870</td>\n",
       "      <td>622</td>\n",
       "    </tr>\n",
       "    <tr>\n",
       "      <th>171</th>\n",
       "      <td>171</td>\n",
       "      <td>172</td>\n",
       "      <td>5203</td>\n",
       "      <td>COUNSELING PSYCHOLOGY</td>\n",
       "      <td>Psychology &amp; Social Work</td>\n",
       "      <td>4626</td>\n",
       "      <td>21</td>\n",
       "      <td>931</td>\n",
       "      <td>3695</td>\n",
       "      <td>0.798746</td>\n",
       "      <td>...</td>\n",
       "      <td>965</td>\n",
       "      <td>2738</td>\n",
       "      <td>214</td>\n",
       "      <td>0.053621</td>\n",
       "      <td>23400</td>\n",
       "      <td>19200</td>\n",
       "      <td>26000</td>\n",
       "      <td>2403</td>\n",
       "      <td>1245</td>\n",
       "      <td>308</td>\n",
       "    </tr>\n",
       "    <tr>\n",
       "      <th>172</th>\n",
       "      <td>172</td>\n",
       "      <td>173</td>\n",
       "      <td>3501</td>\n",
       "      <td>LIBRARY SCIENCE</td>\n",
       "      <td>Education</td>\n",
       "      <td>1098</td>\n",
       "      <td>2</td>\n",
       "      <td>134</td>\n",
       "      <td>964</td>\n",
       "      <td>0.877960</td>\n",
       "      <td>...</td>\n",
       "      <td>237</td>\n",
       "      <td>410</td>\n",
       "      <td>87</td>\n",
       "      <td>0.104946</td>\n",
       "      <td>22000</td>\n",
       "      <td>20000</td>\n",
       "      <td>22000</td>\n",
       "      <td>288</td>\n",
       "      <td>338</td>\n",
       "      <td>192</td>\n",
       "    </tr>\n",
       "  </tbody>\n",
       "</table>\n",
       "<p>173 rows × 22 columns</p>\n",
       "</div>"
      ],
      "text/plain": [
       "     index  Rank  Major_code                                      Major  \\\n",
       "0        0     1        2419                      PETROLEUM ENGINEERING   \n",
       "1        1     2        2416             MINING AND MINERAL ENGINEERING   \n",
       "2        2     3        2415                  METALLURGICAL ENGINEERING   \n",
       "3        3     4        2417  NAVAL ARCHITECTURE AND MARINE ENGINEERING   \n",
       "4        4     5        2405                       CHEMICAL ENGINEERING   \n",
       "..     ...   ...         ...                                        ...   \n",
       "168    168   169        3609                                    ZOOLOGY   \n",
       "169    169   170        5201                     EDUCATIONAL PSYCHOLOGY   \n",
       "170    170   171        5202                        CLINICAL PSYCHOLOGY   \n",
       "171    171   172        5203                      COUNSELING PSYCHOLOGY   \n",
       "172    172   173        3501                            LIBRARY SCIENCE   \n",
       "\n",
       "               Major_category  Total  Sample_size    Men  Women  ShareWomen  \\\n",
       "0                 Engineering   2339           36   2057    282    0.120564   \n",
       "1                 Engineering    756            7    679     77    0.101852   \n",
       "2                 Engineering    856            3    725    131    0.153037   \n",
       "3                 Engineering   1258           16   1123    135    0.107313   \n",
       "4                 Engineering  32260          289  21239  11021    0.341631   \n",
       "..                        ...    ...          ...    ...    ...         ...   \n",
       "168    Biology & Life Science   8409           47   3050   5359    0.637293   \n",
       "169  Psychology & Social Work   2854            7    522   2332    0.817099   \n",
       "170  Psychology & Social Work   2838           13    568   2270    0.799859   \n",
       "171  Psychology & Social Work   4626           21    931   3695    0.798746   \n",
       "172                 Education   1098            2    134    964    0.877960   \n",
       "\n",
       "     ...  Part_time  Full_time_year_round  Unemployed  Unemployment_rate  \\\n",
       "0    ...        270                  1207          37           0.018381   \n",
       "1    ...        170                   388          85           0.117241   \n",
       "2    ...        133                   340          16           0.024096   \n",
       "3    ...        150                   692          40           0.050125   \n",
       "4    ...       5180                 16697        1672           0.061098   \n",
       "..   ...        ...                   ...         ...                ...   \n",
       "168  ...       2190                  3602         304           0.046320   \n",
       "169  ...        572                  1211         148           0.065112   \n",
       "170  ...        648                  1293         368           0.149048   \n",
       "171  ...        965                  2738         214           0.053621   \n",
       "172  ...        237                   410          87           0.104946   \n",
       "\n",
       "     Median  P25th   P75th  College_jobs  Non_college_jobs  Low_wage_jobs  \n",
       "0    110000  95000  125000          1534               364            193  \n",
       "1     75000  55000   90000           350               257             50  \n",
       "2     73000  50000  105000           456               176              0  \n",
       "3     70000  43000   80000           529               102              0  \n",
       "4     65000  50000   75000         18314              4440            972  \n",
       "..      ...    ...     ...           ...               ...            ...  \n",
       "168   26000  20000   39000          2771              2947            743  \n",
       "169   25000  24000   34000          1488               615             82  \n",
       "170   25000  25000   40000           986               870            622  \n",
       "171   23400  19200   26000          2403              1245            308  \n",
       "172   22000  20000   22000           288               338            192  \n",
       "\n",
       "[173 rows x 22 columns]"
      ]
     },
     "execution_count": 2,
     "metadata": {},
     "output_type": "execute_result"
    }
   ],
   "source": [
    "job_path = pd.read_csv(\"recent-grads.csv\")\n",
    "job_path"
   ]
  },
  {
   "cell_type": "markdown",
   "id": "5c35ae69",
   "metadata": {},
   "source": [
    "# Observing if there are any missing values and the columns to be turned to categorical"
   ]
  },
  {
   "cell_type": "code",
   "execution_count": 3,
   "id": "ed323328",
   "metadata": {},
   "outputs": [
    {
     "data": {
      "text/plain": [
       "PETROLEUM ENGINEERING                                  1\n",
       "MATHEMATICS TEACHER EDUCATION                          1\n",
       "FORESTRY                                               1\n",
       "SOIL SCIENCE                                           1\n",
       "GENERAL EDUCATION                                      1\n",
       "                                                      ..\n",
       "INTERNATIONAL BUSINESS                                 1\n",
       "PHARMACY PHARMACEUTICAL SCIENCES AND ADMINISTRATION    1\n",
       "MOLECULAR BIOLOGY                                      1\n",
       "MISCELLANEOUS BUSINESS & MEDICAL ADMINISTRATION        1\n",
       "LIBRARY SCIENCE                                        1\n",
       "Name: Major, Length: 173, dtype: int64"
      ]
     },
     "execution_count": 3,
     "metadata": {},
     "output_type": "execute_result"
    }
   ],
   "source": [
    "job_path[\"Major\"].value_counts()"
   ]
  },
  {
   "cell_type": "code",
   "execution_count": 4,
   "id": "2b607798",
   "metadata": {},
   "outputs": [
    {
     "data": {
      "text/plain": [
       "(index                   0\n",
       " Rank                    0\n",
       " Major_code              0\n",
       " Major                   0\n",
       " Major_category          0\n",
       " Total                   0\n",
       " Sample_size             0\n",
       " Men                     0\n",
       " Women                   0\n",
       " ShareWomen              0\n",
       " Employed                0\n",
       " Full_time               0\n",
       " Part_time               0\n",
       " Full_time_year_round    0\n",
       " Unemployed              0\n",
       " Unemployment_rate       1\n",
       " Median                  0\n",
       " P25th                   0\n",
       " P75th                   0\n",
       " College_jobs            0\n",
       " Non_college_jobs        0\n",
       " Low_wage_jobs           0\n",
       " dtype: int64,\n",
       " 173)"
      ]
     },
     "execution_count": 4,
     "metadata": {},
     "output_type": "execute_result"
    }
   ],
   "source": [
    "job_path.isna().sum(), len(job_path)"
   ]
  },
  {
   "cell_type": "markdown",
   "id": "53df51e1",
   "metadata": {},
   "source": [
    "# There is 1 missing value on Unemployment_rate. So let's drop that record since if we use it, model may come out inaccurate"
   ]
  },
  {
   "cell_type": "code",
   "execution_count": 5,
   "id": "70aae8fa",
   "metadata": {},
   "outputs": [
    {
     "data": {
      "text/plain": [
       "(index                   0\n",
       " Rank                    0\n",
       " Major_code              0\n",
       " Major                   0\n",
       " Major_category          0\n",
       " Total                   0\n",
       " Sample_size             0\n",
       " Men                     0\n",
       " Women                   0\n",
       " ShareWomen              0\n",
       " Employed                0\n",
       " Full_time               0\n",
       " Part_time               0\n",
       " Full_time_year_round    0\n",
       " Unemployed              0\n",
       " Unemployment_rate       0\n",
       " Median                  0\n",
       " P25th                   0\n",
       " P75th                   0\n",
       " College_jobs            0\n",
       " Non_college_jobs        0\n",
       " Low_wage_jobs           0\n",
       " dtype: int64,\n",
       " 172)"
      ]
     },
     "execution_count": 5,
     "metadata": {},
     "output_type": "execute_result"
    }
   ],
   "source": [
    "job_path.dropna(inplace=True)\n",
    "job_path.isna().sum(), len(job_path)"
   ]
  },
  {
   "cell_type": "markdown",
   "id": "7ce01f58",
   "metadata": {},
   "source": [
    "# As the results show above, there are no more missing values. We also need to turn the Major and Major_category to categorical, but let's split to x and y first. x will contain the columns used to predict a column, and that column containing prediction will be in y"
   ]
  },
  {
   "cell_type": "code",
   "execution_count": 6,
   "id": "07126844",
   "metadata": {},
   "outputs": [],
   "source": [
    "x = job_path.drop(\"Low_wage_jobs\", axis=1)\n",
    "y = job_path[\"Low_wage_jobs\"]"
   ]
  },
  {
   "cell_type": "markdown",
   "id": "5f579485",
   "metadata": {},
   "source": [
    "# Now let's turn the columns that need to be turned to categorical to categorical columns. Machines understand numerical data better, so that's why it's being turned to categorical"
   ]
  },
  {
   "cell_type": "code",
   "execution_count": 7,
   "id": "9257117b",
   "metadata": {},
   "outputs": [
    {
     "data": {
      "text/html": [
       "<div>\n",
       "<style scoped>\n",
       "    .dataframe tbody tr th:only-of-type {\n",
       "        vertical-align: middle;\n",
       "    }\n",
       "\n",
       "    .dataframe tbody tr th {\n",
       "        vertical-align: top;\n",
       "    }\n",
       "\n",
       "    .dataframe thead th {\n",
       "        text-align: right;\n",
       "    }\n",
       "</style>\n",
       "<table border=\"1\" class=\"dataframe\">\n",
       "  <thead>\n",
       "    <tr style=\"text-align: right;\">\n",
       "      <th></th>\n",
       "      <th>0</th>\n",
       "    </tr>\n",
       "  </thead>\n",
       "  <tbody>\n",
       "    <tr>\n",
       "      <th>0</th>\n",
       "      <td>(0, 139)\\t1.0\\n  (0, 179)\\t1.0\\n  (0, 189)\\t...</td>\n",
       "    </tr>\n",
       "    <tr>\n",
       "      <th>1</th>\n",
       "      <td>(0, 114)\\t1.0\\n  (0, 179)\\t1.0\\n  (0, 188)\\t...</td>\n",
       "    </tr>\n",
       "    <tr>\n",
       "      <th>2</th>\n",
       "      <td>(0, 112)\\t1.0\\n  (0, 179)\\t1.0\\n  (0, 188)\\t...</td>\n",
       "    </tr>\n",
       "    <tr>\n",
       "      <th>3</th>\n",
       "      <td>(0, 130)\\t1.0\\n  (0, 179)\\t1.0\\n  (0, 188)\\t...</td>\n",
       "    </tr>\n",
       "    <tr>\n",
       "      <th>4</th>\n",
       "      <td>(0, 23)\\t1.0\\n  (0, 179)\\t1.0\\n  (0, 188)\\t4...</td>\n",
       "    </tr>\n",
       "    <tr>\n",
       "      <th>...</th>\n",
       "      <td>...</td>\n",
       "    </tr>\n",
       "    <tr>\n",
       "      <th>167</th>\n",
       "      <td>(0, 171)\\t1.0\\n  (0, 174)\\t1.0\\n  (0, 188)\\t...</td>\n",
       "    </tr>\n",
       "    <tr>\n",
       "      <th>168</th>\n",
       "      <td>(0, 51)\\t1.0\\n  (0, 186)\\t1.0\\n  (0, 188)\\t1...</td>\n",
       "    </tr>\n",
       "    <tr>\n",
       "      <th>169</th>\n",
       "      <td>(0, 26)\\t1.0\\n  (0, 186)\\t1.0\\n  (0, 188)\\t1...</td>\n",
       "    </tr>\n",
       "    <tr>\n",
       "      <th>170</th>\n",
       "      <td>(0, 42)\\t1.0\\n  (0, 186)\\t1.0\\n  (0, 188)\\t1...</td>\n",
       "    </tr>\n",
       "    <tr>\n",
       "      <th>171</th>\n",
       "      <td>(0, 98)\\t1.0\\n  (0, 178)\\t1.0\\n  (0, 188)\\t1...</td>\n",
       "    </tr>\n",
       "  </tbody>\n",
       "</table>\n",
       "<p>172 rows × 1 columns</p>\n",
       "</div>"
      ],
      "text/plain": [
       "                                                     0\n",
       "0      (0, 139)\\t1.0\\n  (0, 179)\\t1.0\\n  (0, 189)\\t...\n",
       "1      (0, 114)\\t1.0\\n  (0, 179)\\t1.0\\n  (0, 188)\\t...\n",
       "2      (0, 112)\\t1.0\\n  (0, 179)\\t1.0\\n  (0, 188)\\t...\n",
       "3      (0, 130)\\t1.0\\n  (0, 179)\\t1.0\\n  (0, 188)\\t...\n",
       "4      (0, 23)\\t1.0\\n  (0, 179)\\t1.0\\n  (0, 188)\\t4...\n",
       "..                                                 ...\n",
       "167    (0, 171)\\t1.0\\n  (0, 174)\\t1.0\\n  (0, 188)\\t...\n",
       "168    (0, 51)\\t1.0\\n  (0, 186)\\t1.0\\n  (0, 188)\\t1...\n",
       "169    (0, 26)\\t1.0\\n  (0, 186)\\t1.0\\n  (0, 188)\\t1...\n",
       "170    (0, 42)\\t1.0\\n  (0, 186)\\t1.0\\n  (0, 188)\\t1...\n",
       "171    (0, 98)\\t1.0\\n  (0, 178)\\t1.0\\n  (0, 188)\\t1...\n",
       "\n",
       "[172 rows x 1 columns]"
      ]
     },
     "execution_count": 7,
     "metadata": {},
     "output_type": "execute_result"
    }
   ],
   "source": [
    "# turns x, y to categorica columns on categorical_features, remainder passthrough\n",
    "one_hot = OneHotEncoder()\n",
    "categorical_features = [\"Major\", \"Major_category\"]\n",
    "transformer = ColumnTransformer([(\"one_hot\", \n",
    "                                  one_hot, \n",
    "                                  categorical_features)],\n",
    "                               remainder=\"passthrough\")\n",
    "transformed_x = transformer.fit_transform(x)\n",
    "pd.DataFrame(transformed_x)"
   ]
  },
  {
   "cell_type": "markdown",
   "id": "e29acbd8",
   "metadata": {},
   "source": [
    "# Splitting into training and test sets. \n",
    "\n",
    "# All the rows in the dataset are shuffled and then 80% of data is chosen as training set and used to train the model, the remaining 20% is not shown to the model which is used to evaluate the model and used for predictions. It is very important the model is given data that was not shown to it before in order to evaluate it as test set."
   ]
  },
  {
   "cell_type": "code",
   "execution_count": 8,
   "id": "83d8df2f",
   "metadata": {},
   "outputs": [],
   "source": [
    "x_train, x_test, y_train, y_test = train_test_split(transformed_x, y, test_size=0.2)"
   ]
  },
  {
   "cell_type": "markdown",
   "id": "7310e29f",
   "metadata": {},
   "source": [
    "# Let's experiment with a few models first to find out which one performs the best. We will move on with the best model. Then train it and use it to evaluate and predict. Later on, the best model will be improved further through hyperparameter tuning\n",
    "\n",
    "\n",
    "# The first model we are using is RandomForestRegressor and we can see it performs really well. We can judge how well a model did through sklearn's score method. \n",
    "\n",
    "# Three performance metrics are used to judge how well a model did as well as sklearn's score() method. Three performance metrics are described further:\n",
    "1. r-squared: Goes from 0 to 1, and the higher, the better. It is also known as coefficient of determination, and shows well a model predicts the variance of dependent variable based on the variance of independent variable, \n",
    "2. Mean absolute error: is the average of the absolute differences between predictions and actual values.\n",
    "3. Mean squared error:  is the average of the squares of the errors between predictions and actual values.  A lower MSE indicates a better fit and a higher MSE indicates a poorer fit."
   ]
  },
  {
   "cell_type": "code",
   "execution_count": 9,
   "id": "a69d3d00",
   "metadata": {},
   "outputs": [
    {
     "name": "stdout",
     "output_type": "stream",
     "text": [
      "Mean Absolute Error: 435.40742857142857\n",
      "r2 score: 0.9927414488238627\n",
      "Mean Squared Error: 542592.3076285714\n",
      "How well it did: 0.9927414488238627\n"
     ]
    }
   ],
   "source": [
    "np.random.seed(333)\n",
    "clf1 = RandomForestRegressor()\n",
    "# Training the model on training set\n",
    "clf1.fit(x_train, y_train)\n",
    "# Predicting values on test set\n",
    "y_preds = clf1.predict(x_test)\n",
    "\n",
    "# Evaluating the model\n",
    "mae = mean_absolute_error(y_test, y_preds)\n",
    "r2 = r2_score(y_test, y_preds)\n",
    "mse = mean_squared_error(y_test, y_preds)\n",
    "print(f\"Mean Absolute Error: {mae}\")\n",
    "print(f\"r2 score: {r2}\")\n",
    "print(f\"Mean Squared Error: {mse}\")\n",
    "print(f\"How well it did: {clf1.score(x_test, y_test)}\")"
   ]
  },
  {
   "cell_type": "markdown",
   "id": "53595d1d",
   "metadata": {},
   "source": [
    "# The second model is Ridge and it also performs pretty well but not as well as Random Forest"
   ]
  },
  {
   "cell_type": "code",
   "execution_count": 10,
   "id": "4e80b7df",
   "metadata": {},
   "outputs": [
    {
     "name": "stdout",
     "output_type": "stream",
     "text": [
      "Mean Absolute Error: 612.0951152101304\n",
      "r2 score: 0.9772397890163963\n",
      "Mean Squared Error: 1701374.7096398564\n",
      "How well it did: 0.9772397890163963\n"
     ]
    }
   ],
   "source": [
    "np.random.seed(333)\n",
    "clf2 = Ridge()\n",
    "# Training the model on training set\n",
    "clf2.fit(x_train, y_train)\n",
    "# Predicting values on test set\n",
    "y_preds = clf2.predict(x_test)\n",
    "\n",
    "# Evaluating the model\n",
    "mae = mean_absolute_error(y_test, y_preds)\n",
    "r2 = r2_score(y_test, y_preds)\n",
    "mse = mean_squared_error(y_test, y_preds)\n",
    "print(f\"Mean Absolute Error: {mae}\")\n",
    "print(f\"r2 score: {r2}\")\n",
    "print(f\"Mean Squared Error: {mse}\")\n",
    "print(f\"How well it did: {clf2.score(x_test, y_test)}\")"
   ]
  },
  {
   "cell_type": "markdown",
   "id": "cad797a3",
   "metadata": {},
   "source": [
    "# The third model used is SVR and we can see that this model performed the worst."
   ]
  },
  {
   "cell_type": "code",
   "execution_count": 11,
   "id": "9d6fd794",
   "metadata": {},
   "outputs": [
    {
     "name": "stdout",
     "output_type": "stream",
     "text": [
      "Mean Absolute Error: 1747.508174010172\n",
      "r2 score: 0.8242407166230274\n",
      "Mean Squared Error: 13138384.347026797\n",
      "How well it did: 0.8242407166230274\n"
     ]
    }
   ],
   "source": [
    "np.random.seed(333)\n",
    "clf2 = SVR(kernel='poly', C=1e3, degree=2)\n",
    "# Training the model on training set\n",
    "clf2.fit(x_train, y_train)\n",
    "# Predicting values on test set\n",
    "y_preds = clf2.predict(x_test)\n",
    "\n",
    "# Evaluating the model\n",
    "mae = mean_absolute_error(y_test, y_preds)\n",
    "r2 = r2_score(y_test, y_preds)\n",
    "mse = mean_squared_error(y_test, y_preds)\n",
    "print(f\"Mean Absolute Error: {mae}\")\n",
    "print(f\"r2 score: {r2}\")\n",
    "print(f\"Mean Squared Error: {mse}\")\n",
    "print(f\"How well it did: {clf2.score(x_test, y_test)}\")"
   ]
  },
  {
   "cell_type": "markdown",
   "id": "4156770d",
   "metadata": {},
   "source": [
    "# Okay, so Random Forest performed the best, so now let's move on with this one. Now hyperparameter tuning the model to find out on which parameter the model performs the best"
   ]
  },
  {
   "cell_type": "code",
   "execution_count": 12,
   "id": "e76808c9",
   "metadata": {},
   "outputs": [
    {
     "name": "stdout",
     "output_type": "stream",
     "text": [
      "n-estimators: 10\n",
      "Random Forest: \n",
      "Mean absolute error: 846.3171428571428\n",
      "r2 score: 0.9647514885221516%\n",
      "Mean squared error: 2634902.0237142853%\n",
      "\n",
      "n-estimators: 20\n",
      "Random Forest: \n",
      "Mean absolute error: 349.54428571428565\n",
      "r2 score: 0.9958103958364173%\n",
      "Mean squared error: 313181.919642857%\n",
      "\n",
      "n-estimators: 30\n",
      "Random Forest: \n",
      "Mean absolute error: 494.16666666666686\n",
      "r2 score: 0.9899882464276385%\n",
      "Mean squared error: 748400.1066349209%\n",
      "\n",
      "n-estimators: 40\n",
      "Random Forest: \n",
      "Mean absolute error: 510.5078571428572\n",
      "r2 score: 0.9885753468901631%\n",
      "Mean squared error: 854017.3850535715%\n",
      "\n",
      "n-estimators: 50\n",
      "Random Forest: \n",
      "Mean absolute error: 594.2777142857142\n",
      "r2 score: 0.9803157095231869%\n",
      "Mean squared error: 1471443.0379657138%\n",
      "\n",
      "n-estimators: 60\n",
      "Random Forest: \n",
      "Mean absolute error: 454.19380952380953\n",
      "r2 score: 0.9916631286856209%\n",
      "Mean squared error: 623199.0565476189%\n",
      "\n",
      "n-estimators: 70\n",
      "Random Forest: \n",
      "Mean absolute error: 503.85755102040815\n",
      "r2 score: 0.9908659349214654%\n",
      "Mean squared error: 682791.0045306123%\n",
      "\n",
      "n-estimators: 80\n",
      "Random Forest: \n",
      "Mean absolute error: 460.2485714285713\n",
      "r2 score: 0.9902423716267019%\n",
      "Mean squared error: 729403.7015892855%\n",
      "\n",
      "n-estimators: 90\n",
      "Random Forest: \n",
      "Mean absolute error: 498.8987301587302\n",
      "r2 score: 0.988979197845505%\n",
      "Mean squared error: 823828.6577883596%\n",
      "\n",
      "n-estimators: 100\n",
      "Random Forest: \n",
      "Mean absolute error: 576.3157142857142\n",
      "r2 score: 0.9857845769746245%\n",
      "Mean squared error: 1062633.4369057138%\n",
      "\n"
     ]
    }
   ],
   "source": [
    "np.random.seed(333)\n",
    "# Random Forest:\n",
    "# Training Classifier\n",
    "maes = []\n",
    "r2s = []\n",
    "mses = []\n",
    "labels = []\n",
    "for i in range(10, 110, 10):\n",
    "    clf1 = RandomForestRegressor(n_estimators=i)\n",
    "    clf1.fit(x_train, y_train)\n",
    "\n",
    "    # Predicting values of y after training\n",
    "    y_preds = clf1.predict(x_test)\n",
    "\n",
    "    mae = mean_absolute_error(y_test, y_preds)\n",
    "    r2 = r2_score(y_test, y_preds)\n",
    "    mse = mean_squared_error(y_test, y_preds)\n",
    "    maes.append(mae)\n",
    "    r2s.append(r2)\n",
    "    mses.append(mse)\n",
    "    labels.append(i)\n",
    "    \n",
    "    print(f\"n-estimators: {i}\")\n",
    "    print(\"Random Forest: \")\n",
    "    print(f\"Mean absolute error: {mae}\")\n",
    "    print(f\"r2 score: {r2}%\")\n",
    "    print(f\"Mean squared error: {mse}%\\n\")\n"
   ]
  },
  {
   "cell_type": "markdown",
   "id": "a9080b70",
   "metadata": {},
   "source": [
    "# Let's visualize it with graphs that at which parameter the model performs the best"
   ]
  },
  {
   "cell_type": "code",
   "execution_count": 13,
   "id": "3f1233b9",
   "metadata": {},
   "outputs": [
    {
     "data": {
      "text/plain": [
       "<matplotlib.legend.Legend at 0x121687c40>"
      ]
     },
     "execution_count": 13,
     "metadata": {},
     "output_type": "execute_result"
    },
    {
     "data": {
      "image/png": "[encoded data removed]",
      "text/plain": [
       "<Figure size 1000x600 with 1 Axes>"
      ]
     },
     "metadata": {},
     "output_type": "display_data"
    }
   ],
   "source": [
    "# xpos = np.arange(len(labels))\n",
    "# plt.xticks(xpos, labels)\n",
    "# plt.xlabel(\"n-estimators\")\n",
    "# plt.ylabel(\"Performance Metrics\")\n",
    "# plt.bar(xpos-0.1, maes, width=0.3, label=\"MAE\")\n",
    "# plt.bar(xpos+0.1, r2s, width=0.3, label=\"r2-score\")\n",
    "# plt.bar(xpos+0.1+0.1, mses, width=0.3, label=\"MSE\")\n",
    "# plt.legend()\n",
    "\n",
    "plt.figure(figsize=(10, 6))\n",
    "# plt.bar(labels, maes)\n",
    "plt.bar(labels, r2s)\n",
    "# plt.bar(labels, mses)\n",
    "plt.legend(['R2-Score'])"
   ]
  },
  {
   "cell_type": "code",
   "execution_count": 14,
   "id": "c6fe5fce",
   "metadata": {},
   "outputs": [
    {
     "data": {
      "text/plain": [
       "<matplotlib.legend.Legend at 0x12183c8e0>"
      ]
     },
     "execution_count": 14,
     "metadata": {},
     "output_type": "execute_result"
    },
    {
     "data": {
      "image/png": "[encoded data removed]",
      "text/plain": [
       "<Figure size 1000x600 with 1 Axes>"
      ]
     },
     "metadata": {},
     "output_type": "display_data"
    }
   ],
   "source": [
    "plt.figure(figsize=(10, 6))\n",
    "# plt.bar(labels, maes)\n",
    "# plt.bar(labels, r2s, bottom=maes)\n",
    "plt.bar(labels, mses)\n",
    "plt.legend(['MSE'])"
   ]
  },
  {
   "cell_type": "markdown",
   "id": "664d2ce0",
   "metadata": {},
   "source": [
    "# Hyperparameter tuning shows that the model performs the best overall with an n-estimator of 60. So let's continue with this parameter instead. Retraining the model again:"
   ]
  },
  {
   "cell_type": "code",
   "execution_count": 15,
   "id": "810255a8",
   "metadata": {},
   "outputs": [
    {
     "name": "stdout",
     "output_type": "stream",
     "text": [
      "Mean Absolute Error: 392.8385714285713\n",
      "r2 score: 0.9942171171674042\n",
      "Mean Squared Error: 432282.9259920633\n"
     ]
    }
   ],
   "source": [
    "np.random.seed(333)\n",
    "clf1 = RandomForestRegressor(n_estimators=60)\n",
    "# Training the model on training set\n",
    "clf1.fit(x_train, y_train)\n",
    "# Predicting values on test set\n",
    "y_preds = clf1.predict(x_test)\n",
    "\n",
    "# Evaluating the model\n",
    "mae = mean_absolute_error(y_test, y_preds)\n",
    "r2 = r2_score(y_test, y_preds)\n",
    "mse = mean_squared_error(y_test, y_preds)\n",
    "print(f\"Mean Absolute Error: {mae}\")\n",
    "print(f\"r2 score: {r2}\")\n",
    "print(f\"Mean Squared Error: {mse}\")"
   ]
  },
  {
   "cell_type": "markdown",
   "id": "183651d1",
   "metadata": {},
   "source": [
    "# Below, we can see the actual values and the predicted values side by side and we can see the model performs well as on some cases, it is very close to the actual value"
   ]
  },
  {
   "cell_type": "code",
   "execution_count": 16,
   "id": "819c4ec4",
   "metadata": {},
   "outputs": [
    {
     "name": "stdout",
     "output_type": "stream",
     "text": [
      "    Actual Values   Predictions\n",
      "0             524    553.533333\n",
      "1             285    664.533333\n",
      "2            4288   4129.783333\n",
      "3            3816   3746.450000\n",
      "4               0     58.783333\n",
      "5            8051   6675.066667\n",
      "6           32395  32294.200000\n",
      "7             743    723.566667\n",
      "8            2499   2628.916667\n",
      "9            1405    928.066667\n",
      "10            496    407.383333\n",
      "11            485    308.600000\n",
      "12             82    181.783333\n",
      "13          19803  19247.950000\n",
      "14            259    315.516667\n",
      "15          27440  26697.316667\n",
      "16            221    167.133333\n",
      "17            260    309.300000\n",
      "18              0     69.966667\n",
      "19           1634   1247.566667\n",
      "20            480    257.366667\n",
      "21           4569   4941.516667\n",
      "22           1422   1271.916667\n",
      "23            365    512.733333\n",
      "24           4221   3246.300000\n",
      "25            245    151.066667\n",
      "26           1231    574.800000\n",
      "27           1168   1178.250000\n",
      "28          28339  25592.916667\n",
      "29           9286  10390.433333\n",
      "30            591    409.533333\n",
      "31            755    410.233333\n",
      "32          16839  15869.016667\n",
      "33           2767   3033.616667\n",
      "34           2495   2064.300000\n"
     ]
    }
   ],
   "source": [
    "# Define the two arrays\n",
    "array1 = np.array(y_test)\n",
    "array2 = np.array(y_preds)\n",
    "\n",
    "# Convert the arrays to Pandas Series\n",
    "series1 = pd.Series(array1, name=\"Actual Values\")\n",
    "series2 = pd.Series(array2, name=\"Predictions\")\n",
    "\n",
    "# Combine the Series into a single DataFrame\n",
    "df = pd.concat([series1, series2], axis=1)\n",
    "\n",
    "print(df)"
   ]
  },
  {
   "cell_type": "markdown",
   "id": "7bfa5a12",
   "metadata": {},
   "source": [
    "# In conclusion, this model can be used to get an idea on how to improve degrees on which the graduates have high number of low wage jobs. It can also be used to increase capacities on degrees which have low number of low wage jobs. This will help young people to not struggle after they graduate to overall help the global economy and make right decisions. \n",
    "\n",
    "# This model can help to decide on which degrees should be given more emphasis to, based on job demand playing a contributing factor to influence socio-economic change and shape policy decisions as the pandemic unfolds. Goverments from all over the world can use it to designate a specific budget to certain degrees based on job demand"
   ]
  },
  {
   "cell_type": "code",
   "execution_count": null,
   "id": "4b2e5bdc",
   "metadata": {},
   "outputs": [],
   "source": []
  }
 ],
 "metadata": {
  "kernelspec": {
   "display_name": "Python 3 (ipykernel)",
   "language": "python",
   "name": "python3"
  },
  "language_info": {
   "codemirror_mode": {
    "name": "ipython",
    "version": 3
   },
   "file_extension": ".py",
   "mimetype": "text/x-python",
   "name": "python",
   "nbconvert_exporter": "python",
   "pygments_lexer": "ipython3",
   "version": "3.10.8"
  }
 },
 "nbformat": 4,
 "nbformat_minor": 5
}
